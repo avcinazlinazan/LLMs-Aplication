{
 "cells": [
  {
   "cell_type": "markdown",
   "id": "5531b171-f92b-4544-ba47-e792bd9882f6",
   "metadata": {},
   "source": [
    "## Data Loaders\n",
    "* Load all kinds of data and then ask the LLM questions about it.\n",
    "* Connect with data sources and load private documents.\n",
    "* LangChain built-in data loaders.\n",
    "* Labeled as \"integrations\".\n",
    "Most of them require to install the corresponding libraries.\n",
    "LangChain documentation on Document Loaders\n",
    "See the documentation page here.\n",
    "See the list of built-in document loaders here.\n",
    "Setup\n",
    "After you download the code from the github repository in your computer\n",
    "In terminal:\n",
    "\n",
    "### jupyter lab\n",
    "Go to the folder of notebooks and open the right notebook.\n",
    "\n",
    "To see the code in Virtual Studio Code or your editor of choice.\n",
    "open Virtual Studio Code or your editor of choice.\n",
    "open the project-folder\n",
    "open the 001-data-loaders.py file\n",
    "## Create your .env file\n",
    "In the github repo we have included a file named .env.example\n",
    "Rename that file to .env file and here is where you will add your confidential api keys. Remember to include:\n",
    "OPENAI_API_KEY=your_openai_api_key\n",
    "LANGCHAIN_TRACING_V2=true\n",
    "LANGCHAIN_ENDPOINT=https://api.smith.langchain.com\n",
    "LANGCHAIN_API_KEY=your_langchain_api_key\n",
    "LANGCHAIN_PROJECT=your_project_name"
   ]
  },
  {
   "cell_type": "markdown",
   "id": "0288a97e-74c7-43fa-afd7-3bc893be1b9f",
   "metadata": {},
   "source": [
    "## Connect with the .env file located in the same directory of this notebook\n",
    "If you are using the pre-loaded poetry shell, you do not need to install the following package because it is already pre-loaded for you:"
   ]
  },
  {
   "cell_type": "code",
   "execution_count": 2,
   "id": "d92f52f6-ae34-451a-b13d-ae94efc00ec1",
   "metadata": {},
   "outputs": [],
   "source": [
    "#pip install python-dotenv"
   ]
  },
  {
   "cell_type": "code",
   "execution_count": 3,
   "id": "2a9861d0-5557-4fc7-866c-576585a38a8b",
   "metadata": {},
   "outputs": [],
   "source": [
    "import os\n",
    "from dotenv import load_dotenv, find_dotenv\n",
    "_ = load_dotenv(find_dotenv())\n",
    "openai_api_key = os.environ[\"OPENAI_API_KEY\"]"
   ]
  },
  {
   "cell_type": "code",
   "execution_count": 4,
   "id": "fa4dee8b-7737-409f-8280-a85309e30c47",
   "metadata": {},
   "outputs": [],
   "source": [
    "#pip install langchain"
   ]
  },
  {
   "cell_type": "code",
   "execution_count": 5,
   "id": "84fc7f1f-2a88-49ac-b6a2-0bd4619daa1f",
   "metadata": {},
   "outputs": [],
   "source": [
    "#pip install langchain-openai"
   ]
  },
  {
   "cell_type": "markdown",
   "id": "abbbbf4d-18e8-4c9a-bcb2-3b78e2f6e808",
   "metadata": {},
   "source": [
    "## Connect with an LLM\n",
    "If you are using the pre-loaded poetry shell, you do not need to install the following package because it is already pre-loaded for you:"
   ]
  },
  {
   "cell_type": "code",
   "execution_count": 7,
   "id": "84920ca3-0f00-499c-b05e-da594e886085",
   "metadata": {},
   "outputs": [],
   "source": [
    "#pip install langchain-openai"
   ]
  },
  {
   "cell_type": "markdown",
   "id": "6c14f730-18b8-41e7-869f-1042f75dcc6d",
   "metadata": {},
   "source": [
    "### Simple data loading"
   ]
  },
  {
   "cell_type": "markdown",
   "id": "d71d9d30-218a-4e5d-85a6-0b2d5ce164e0",
   "metadata": {},
   "source": [
    "#### Loading a .txt file"
   ]
  },
  {
   "cell_type": "code",
   "execution_count": 9,
   "id": "4648dd28-d6da-4c75-9408-454b3ef1b766",
   "metadata": {},
   "outputs": [],
   "source": [
    "from langchain_openai import ChatOpenAI\n",
    "\n",
    "chatModel = ChatOpenAI(model=\"gpt-3.5-turbo-0125\")"
   ]
  },
  {
   "cell_type": "code",
   "execution_count": 11,
   "id": "f9262dfd-f99c-4207-8279-5b26d487039f",
   "metadata": {},
   "outputs": [],
   "source": [
    "#pip install langchain-community"
   ]
  },
  {
   "cell_type": "code",
   "execution_count": 16,
   "id": "b1946cdb-e97c-4efb-881e-9d0b544b7742",
   "metadata": {},
   "outputs": [],
   "source": [
    "from langchain_community.document_loaders import TextLoader\n",
    "\n",
    "loader = TextLoader(\"./data/be-good.txt\")\n",
    "\n",
    "loaded_data = loader.load()"
   ]
  },
  {
   "cell_type": "code",
   "execution_count": 18,
   "id": "b0ae3cfd-320a-48da-839d-049d6434db06",
   "metadata": {},
   "outputs": [],
   "source": [
    "#loaded_data"
   ]
  },
  {
   "cell_type": "markdown",
   "id": "47e40995-f656-43f6-a6a4-b7fe6c20429c",
   "metadata": {},
   "source": [
    "#### Loading a CSV file"
   ]
  },
  {
   "cell_type": "code",
   "execution_count": 20,
   "id": "789c4720-d9aa-4519-accf-88f443274d52",
   "metadata": {},
   "outputs": [],
   "source": [
    "from langchain_community.document_loaders import CSVLoader\n",
    "\n",
    "loader = CSVLoader('./data/Street_Tree_List.csv')\n",
    "\n",
    "loaded_data = loader.load()"
   ]
  },
  {
   "cell_type": "code",
   "execution_count": 22,
   "id": "f8f13bca-365e-4140-9167-0618301fda28",
   "metadata": {},
   "outputs": [],
   "source": [
    "#loaded_data"
   ]
  },
  {
   "cell_type": "markdown",
   "id": "5c1c0ef6-4499-4069-a5d9-e19d30641d0b",
   "metadata": {},
   "source": [
    "#### Loading an .html file"
   ]
  },
  {
   "cell_type": "code",
   "execution_count": 25,
   "id": "1a71629d-3323-487a-afd7-6722359879dc",
   "metadata": {},
   "outputs": [],
   "source": [
    "#pip install bs4"
   ]
  },
  {
   "cell_type": "code",
   "execution_count": 29,
   "id": "c6e93764-668e-4f8e-a55d-1483631e048d",
   "metadata": {},
   "outputs": [],
   "source": [
    "#pip install unstructured"
   ]
  },
  {
   "cell_type": "code",
   "execution_count": 31,
   "id": "a273d088-cc51-4b26-b8b4-179d405d94e6",
   "metadata": {},
   "outputs": [
    {
     "name": "stdout",
     "output_type": "stream",
     "text": [
      "Name: unstructured\n",
      "Version: 0.16.13\n",
      "Summary: A library that prepares raw documents for downstream ML tasks.\n",
      "Home-page: https://github.com/Unstructured-IO/unstructured\n",
      "Author: Unstructured Technologies\n",
      "Author-email: devops@unstructuredai.io\n",
      "License: Apache-2.0\n",
      "Location: C:\\Users\\mt\\Desktop\\llm_course\\myenv\\Lib\\site-packages\n",
      "Requires: backoff, beautifulsoup4, chardet, dataclasses-json, emoji, filetype, html5lib, langdetect, lxml, ndjson, nltk, numpy, psutil, python-iso639, python-magic, python-oxmsg, rapidfuzz, requests, tqdm, typing-extensions, unstructured-client, wrapt\n",
      "Required-by: \n",
      "Note: you may need to restart the kernel to use updated packages.\n"
     ]
    }
   ],
   "source": [
    "pip show unstructured"
   ]
  },
  {
   "cell_type": "code",
   "execution_count": 37,
   "id": "73f3ed9c-13ca-4d82-9855-83e491229148",
   "metadata": {},
   "outputs": [],
   "source": [
    "# import nltk\n",
    "# nltk.download('all')"
   ]
  },
  {
   "cell_type": "code",
   "execution_count": 36,
   "id": "3344d917-661f-4c5e-b912-9d0b59e667cb",
   "metadata": {},
   "outputs": [],
   "source": [
    "from langchain_community.document_loaders import UnstructuredHTMLLoader\n",
    "\n",
    "loader = UnstructuredHTMLLoader('./data/100-startups.html')\n",
    "\n",
    "loaded_data = loader.load()"
   ]
  },
  {
   "cell_type": "code",
   "execution_count": 39,
   "id": "30901f09-deb5-4360-b869-d5a3e32223b1",
   "metadata": {},
   "outputs": [],
   "source": [
    "#loaded_data"
   ]
  },
  {
   "cell_type": "markdown",
   "id": "5c75f79b-3492-46d6-a95c-4a210e7010da",
   "metadata": {},
   "source": [
    "#### Loading a .pdf file"
   ]
  },
  {
   "cell_type": "code",
   "execution_count": 41,
   "id": "7ffd2b5f-f82f-4255-b382-bb3151a5f7a7",
   "metadata": {},
   "outputs": [],
   "source": [
    "#pip install pypdf"
   ]
  },
  {
   "cell_type": "code",
   "execution_count": 43,
   "id": "9ae70d20-ccc9-46de-8bf3-4bb614bfdda8",
   "metadata": {},
   "outputs": [],
   "source": [
    "from langchain_community.document_loaders import PyPDFLoader\n",
    "\n",
    "loader = PyPDFLoader('./data/5pages.pdf')\n",
    "\n",
    "loaded_data = loader.load_and_split()"
   ]
  },
  {
   "cell_type": "code",
   "execution_count": 44,
   "id": "0755e977-79b8-409a-85c3-1d3f0c3ef72f",
   "metadata": {},
   "outputs": [
    {
     "data": {
      "text/plain": [
       "'Page 1 of 4 \\nPDF Files \\nScan – Create – Reduce File Size  \\n \\n \\nIt is recommended that you purchase an Adobe Acrobat product that \\nallows you to read, create and manipulate PDF documents.  Go to \\nhttp://www.adobe.com/products/acrobat/matrix.html to compare \\nAdobe products and features –Adobe Acrobat Standard is sufficient. \\n \\n \\nScanning Documents \\n \\nYou should only have to scan documents that are not electronic, and \\nwhen you are unable to create a PDF using PDFMaker or the Print \\nCommand from the application you are using.   \\n \\nSignature Pages \\nIf you have a document such as a CV that requires a signature on a \\npage only print the page that requires the signature –printing the \\nentire document and scanning it is not necessary or desired.  Once you \\nsign and scan the signature page you can combine it with the original \\ndocument using the Create PDF From Multiple Files feature. \\n \\nScanner Settings \\nBefore scanning documents remember to make certain that the \\nfollowing settings are activated on your scanner (settings may vary): \\n\\x83 Document Mode \\n\\x83 Scan to smallest size \\n\\x83 Fast (lowest quality) \\n\\x83 Grayscale or black and white  \\n\\x83 Resolution: 300dpi or less'"
      ]
     },
     "execution_count": 44,
     "metadata": {},
     "output_type": "execute_result"
    }
   ],
   "source": [
    "loaded_data[0].page_content"
   ]
  },
  {
   "cell_type": "markdown",
   "id": "988990a8-00b6-4582-9dfe-f18705dd9e81",
   "metadata": {},
   "source": [
    "#### Loading a Wikipedia page and asking questions about it"
   ]
  },
  {
   "cell_type": "code",
   "execution_count": 46,
   "id": "edc966f8-2083-4e56-8adf-84e650cf7437",
   "metadata": {},
   "outputs": [],
   "source": [
    "#pip install wikipedia"
   ]
  },
  {
   "cell_type": "code",
   "execution_count": 51,
   "id": "34c23772-1a4b-4652-a250-01c9b327bf80",
   "metadata": {},
   "outputs": [],
   "source": [
    "from langchain_community.document_loaders import WikipediaLoader\n",
    "\n",
    "name = \"Sezen Aksu\"\n",
    "\n",
    "loader = WikipediaLoader(query=name, load_max_docs=1)\n",
    "\n",
    "loaded_data = loader.load()[0].page_content"
   ]
  },
  {
   "cell_type": "code",
   "execution_count": 60,
   "id": "11ad97e8-7f00-433d-b155-b7cb993d42cf",
   "metadata": {},
   "outputs": [],
   "source": [
    "from langchain_core.prompts import ChatPromptTemplate\n",
    "\n",
    "chat_template = ChatPromptTemplate.from_messages(\n",
    "    [\n",
    "        (\"human\", \"Answer this {question}, here is some extra {context}\"),\n",
    "    ]\n",
    ")\n",
    "\n",
    "messages = chat_template.format_messages(\n",
    "    question=\"Who is  Sezen Aksu\",\n",
    "    context=loaded_data\n",
    ")"
   ]
  },
  {
   "cell_type": "code",
   "execution_count": 61,
   "id": "36935552-f106-4df2-8dd7-b29e0eb5629b",
   "metadata": {},
   "outputs": [],
   "source": [
    "response = chatModel.invoke(messages)"
   ]
  },
  {
   "cell_type": "code",
   "execution_count": 62,
   "id": "36aed844-b176-4902-9f0d-d99f50278ebe",
   "metadata": {},
   "outputs": [
    {
     "data": {
      "text/plain": [
       "AIMessage(content=' Nur Yengi\\'s debut album, Sevgiliye, in 1995.\\nDuring the 80\\'s, Aksu continued to release successful albums, such as Firuze, which featured the hit song \"Firuze\". She also collaborated with numerous artists, such as Goran Bregović on the album Adı Bende Saklı, which featured a mix of Turkish and Roma music.\\nThroughout the 80\\'s, Aksu\\'s influence on Turkish music continued to grow, solidifying her reputation as a pioneering and influential figure in Turkish pop music. She continued to push boundaries and experiment with different styles and sounds, showcasing her versatility as a singer and songwriter.\\n\\nOverall, Sezen Aksu is a highly respected and acclaimed Turkish singer, songwriter, and producer, known for her powerful and emotive vocals, as well as her ability to adapt and innovate within the music industry. She has left a lasting impact on Turkish music and has garnered a large and dedicated fanbase both in Turkey and internationally.', additional_kwargs={'refusal': None}, response_metadata={'token_usage': {'completion_tokens': 207, 'prompt_tokens': 1074, 'total_tokens': 1281, 'completion_tokens_details': {'accepted_prediction_tokens': 0, 'audio_tokens': 0, 'reasoning_tokens': 0, 'rejected_prediction_tokens': 0}, 'prompt_tokens_details': {'audio_tokens': 0, 'cached_tokens': 0}}, 'model_name': 'gpt-3.5-turbo-0125', 'system_fingerprint': None, 'finish_reason': 'stop', 'logprobs': None}, id='run-c6baf3df-ac0a-4ea4-bde3-55b2c6b09ab5-0', usage_metadata={'input_tokens': 1074, 'output_tokens': 207, 'total_tokens': 1281, 'input_token_details': {'audio': 0, 'cache_read': 0}, 'output_token_details': {'audio': 0, 'reasoning': 0}})"
      ]
     },
     "execution_count": 62,
     "metadata": {},
     "output_type": "execute_result"
    }
   ],
   "source": [
    "response "
   ]
  },
  {
   "cell_type": "code",
   "execution_count": 63,
   "id": "9d3887e1-316d-47a2-addb-7651b097edc5",
   "metadata": {},
   "outputs": [
    {
     "data": {
      "text/plain": [
       "' Nur Yengi\\'s debut album, Sevgiliye, in 1995.\\nDuring the 80\\'s, Aksu continued to release successful albums, such as Firuze, which featured the hit song \"Firuze\". She also collaborated with numerous artists, such as Goran Bregović on the album Adı Bende Saklı, which featured a mix of Turkish and Roma music.\\nThroughout the 80\\'s, Aksu\\'s influence on Turkish music continued to grow, solidifying her reputation as a pioneering and influential figure in Turkish pop music. She continued to push boundaries and experiment with different styles and sounds, showcasing her versatility as a singer and songwriter.\\n\\nOverall, Sezen Aksu is a highly respected and acclaimed Turkish singer, songwriter, and producer, known for her powerful and emotive vocals, as well as her ability to adapt and innovate within the music industry. She has left a lasting impact on Turkish music and has garnered a large and dedicated fanbase both in Turkey and internationally.'"
      ]
     },
     "execution_count": 63,
     "metadata": {},
     "output_type": "execute_result"
    }
   ],
   "source": [
    "response.content"
   ]
  },
  {
   "cell_type": "code",
   "execution_count": null,
   "id": "41a2f65d-f427-417e-b4de-77af42fe3404",
   "metadata": {},
   "outputs": [],
   "source": []
  }
 ],
 "metadata": {
  "kernelspec": {
   "display_name": "Python 3 (ipykernel)",
   "language": "python",
   "name": "python3"
  },
  "language_info": {
   "codemirror_mode": {
    "name": "ipython",
    "version": 3
   },
   "file_extension": ".py",
   "mimetype": "text/x-python",
   "name": "python",
   "nbconvert_exporter": "python",
   "pygments_lexer": "ipython3",
   "version": "3.12.6"
  }
 },
 "nbformat": 4,
 "nbformat_minor": 5
}
